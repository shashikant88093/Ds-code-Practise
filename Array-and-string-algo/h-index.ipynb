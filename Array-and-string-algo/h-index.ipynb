{
 "cells": [
  {
   "cell_type": "code",
   "execution_count": 6,
   "id": "ec642674",
   "metadata": {},
   "outputs": [
    {
     "name": "stdout",
     "output_type": "stream",
     "text": [
      "[6, 5, 3, 1, 0] cita\n",
      "3\n"
     ]
    }
   ],
   "source": [
    "def hindex(citations):\n",
    "    citations.sort(reverse=True)\n",
    "    print(citations,\"cita\")\n",
    "    h = 0\n",
    "    for i, c in enumerate(citations):\n",
    "        if c >= i + 1:\n",
    "            h = i + 1\n",
    "        else:\n",
    "            break\n",
    "    return h\n",
    "\n",
    "citations = [3, 0, 6, 1, 5]\n",
    "\n",
    "print(hindex(citations))"
   ]
  }
 ],
 "metadata": {
  "kernelspec": {
   "display_name": "Python 3",
   "language": "python",
   "name": "python3"
  },
  "language_info": {
   "codemirror_mode": {
    "name": "ipython",
    "version": 3
   },
   "file_extension": ".py",
   "mimetype": "text/x-python",
   "name": "python",
   "nbconvert_exporter": "python",
   "pygments_lexer": "ipython3",
   "version": "3.11.9"
  }
 },
 "nbformat": 4,
 "nbformat_minor": 5
}
