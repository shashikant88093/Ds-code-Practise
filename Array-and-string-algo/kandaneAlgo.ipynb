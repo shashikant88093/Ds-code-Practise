{
 "cells": [
  {
   "cell_type": "markdown",
   "id": "69b76b13",
   "metadata": {},
   "source": [
    "# Kandane Algo\n"
   ]
  },
  {
   "cell_type": "code",
   "execution_count": 28,
   "id": "0c4ab0e0",
   "metadata": {},
   "outputs": [
    {
     "name": "stdout",
     "output_type": "stream",
     "text": [
      "[-2, 1, -3, 4, -1, 2, 1, -5, 4]\n",
      "-2 \n",
      "-2 1 \n",
      "-2 1 -3 \n",
      "-2 1 -3 4 \n",
      "-2 1 -3 4 -1 \n",
      "-2 1 -3 4 -1 2 \n",
      "-2 1 -3 4 -1 2 1 \n",
      "-2 1 -3 4 -1 2 1 -5 \n",
      "-2 1 -3 4 -1 2 1 -5 4 \n",
      "1 \n",
      "1 -3 \n",
      "1 -3 4 \n",
      "1 -3 4 -1 \n",
      "1 -3 4 -1 2 \n",
      "1 -3 4 -1 2 1 \n",
      "1 -3 4 -1 2 1 -5 \n",
      "1 -3 4 -1 2 1 -5 4 \n",
      "-3 \n",
      "-3 4 \n",
      "-3 4 -1 \n",
      "-3 4 -1 2 \n",
      "-3 4 -1 2 1 \n",
      "-3 4 -1 2 1 -5 \n",
      "-3 4 -1 2 1 -5 4 \n",
      "4 \n",
      "4 -1 \n",
      "4 -1 2 \n",
      "4 -1 2 1 \n",
      "4 -1 2 1 -5 \n",
      "4 -1 2 1 -5 4 \n",
      "-1 \n",
      "-1 2 \n",
      "-1 2 1 \n",
      "-1 2 1 -5 \n",
      "-1 2 1 -5 4 \n",
      "2 \n",
      "2 1 \n",
      "2 1 -5 \n",
      "2 1 -5 4 \n",
      "1 \n",
      "1 -5 \n",
      "1 -5 4 \n",
      "-5 \n",
      "-5 4 \n",
      "4 \n"
     ]
    }
   ],
   "source": [
    "# Brut froce\n",
    "\n",
    "arr =[-2,1,-3,4,-1,2,1,-5,4]\n",
    "print(arr)\n",
    "for start in range(len(arr)):\n",
    "    for end in range(start,len(arr)):\n",
    "        for i in range(start,end+1):\n",
    "            print(arr[i],end=\" \")\n",
    "\n",
    "        print()\n"
   ]
  },
  {
   "cell_type": "code",
   "execution_count": 29,
   "id": "15a73ca4",
   "metadata": {},
   "outputs": [
    {
     "name": "stdout",
     "output_type": "stream",
     "text": [
      "6\n",
      "[-2, 1, -3, 4, -1, 2, 1, -5, 4, 1, -3, 4, -1, 2, 1, -5, 4, -3, 4, -1, 2, 1, -5, 4, 4, -1, 2, 1, -5, 4, -1, 2, 1, -5, 4, 2, 1, -5, 4, 1, -5, 4, -5, 4, 4]\n"
     ]
    }
   ],
   "source": [
    "maxSum=0\n",
    "arrdata=[]\n",
    "for start in range(len(arr)):\n",
    "    arrSum =0\n",
    "    for end in range(start,len(arr)):\n",
    "        arrSum += arr[end]\n",
    "        arrdata.append(arr[end])\n",
    "        maxSum= max(arrSum,maxSum)\n",
    "\n",
    "print(maxSum)\n",
    "print(arrdata)"
   ]
  }
 ],
 "metadata": {
  "kernelspec": {
   "display_name": "Python 3",
   "language": "python",
   "name": "python3"
  },
  "language_info": {
   "codemirror_mode": {
    "name": "ipython",
    "version": 3
   },
   "file_extension": ".py",
   "mimetype": "text/x-python",
   "name": "python",
   "nbconvert_exporter": "python",
   "pygments_lexer": "ipython3",
   "version": "3.11.9"
  }
 },
 "nbformat": 4,
 "nbformat_minor": 5
}
