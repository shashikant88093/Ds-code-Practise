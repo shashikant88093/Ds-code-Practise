{
 "cells": [
  {
   "cell_type": "code",
   "execution_count": 5,
   "id": "5129c118",
   "metadata": {},
   "outputs": [
    {
     "name": "stdout",
     "output_type": "stream",
     "text": [
      "True\n",
      "True\n"
     ]
    }
   ],
   "source": [
    "\n",
    "def jumpGame(nums):\n",
    "    max_reach = 0\n",
    "    n = len(nums)\n",
    "    for i in range(n):\n",
    "        if i > max_reach:\n",
    "            return False\n",
    "        max_reach = max(max_reach, i + nums[i])\n",
    "        if max_reach >= n - 1:\n",
    "            return True\n",
    "    return False\n",
    "nums=[2,3,1,1,4]\n",
    "# Use the existing nums variable defined in the notebook\n",
    "print(jumpGame(nums))\n",
    "    \n",
    "print(jumpGame(nums))"
   ]
  }
 ],
 "metadata": {
  "kernelspec": {
   "display_name": "Python 3",
   "language": "python",
   "name": "python3"
  },
  "language_info": {
   "codemirror_mode": {
    "name": "ipython",
    "version": 3
   },
   "file_extension": ".py",
   "mimetype": "text/x-python",
   "name": "python",
   "nbconvert_exporter": "python",
   "pygments_lexer": "ipython3",
   "version": "3.11.9"
  }
 },
 "nbformat": 4,
 "nbformat_minor": 5
}
