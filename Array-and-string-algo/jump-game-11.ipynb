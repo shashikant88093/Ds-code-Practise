{
 "cells": [
  {
   "cell_type": "code",
   "execution_count": 6,
   "id": "5cf55de6",
   "metadata": {},
   "outputs": [
    {
     "name": "stdout",
     "output_type": "stream",
     "text": [
      "2\n"
     ]
    }
   ],
   "source": [
    "# Input: nums = [2,3,1,1,4]\n",
    "# Output: 2\n",
    "# Explanation: The minimum number of jumps to reach the last index is 2. Jump 1 step from index 0 to 1, then 3 steps to the last index.\n",
    "def minJumps(nums):\n",
    "    # Greedy approach to find minimum jumps\n",
    "    n = len(nums)\n",
    "    jumps = 0\n",
    "    cur_end = 0\n",
    "    cur_farthest = 0\n",
    "    for i in range(n - 1):\n",
    "        cur_farthest = max(cur_farthest, i + nums[i])\n",
    "        if i == cur_end:\n",
    "            jumps += 1\n",
    "            cur_end = cur_farthest\n",
    "    return jumps\n",
    "\n",
    "nums = [2,3,1,1,4]\n",
    "print(minJumps(nums))"
   ]
  }
 ],
 "metadata": {
  "kernelspec": {
   "display_name": "Python 3",
   "language": "python",
   "name": "python3"
  },
  "language_info": {
   "codemirror_mode": {
    "name": "ipython",
    "version": 3
   },
   "file_extension": ".py",
   "mimetype": "text/x-python",
   "name": "python",
   "nbconvert_exporter": "python",
   "pygments_lexer": "ipython3",
   "version": "3.11.9"
  }
 },
 "nbformat": 4,
 "nbformat_minor": 5
}
