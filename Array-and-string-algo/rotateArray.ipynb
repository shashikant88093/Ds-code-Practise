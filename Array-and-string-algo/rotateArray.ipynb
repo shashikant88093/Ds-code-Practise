{
 "cells": [
  {
   "cell_type": "code",
   "execution_count": 4,
   "id": "16222648",
   "metadata": {},
   "outputs": [
    {
     "name": "stdout",
     "output_type": "stream",
     "text": [
      "[1, 2, 3, 4, 5, 6, 7]\n",
      "[5, 6, 7]\n",
      "[1, 2, 3, 4]\n",
      "[5, 6, 7, 1, 2, 3, 4]\n"
     ]
    }
   ],
   "source": [
    "# Input: nums = [1,2,3,4,5,6,7], k = 3\n",
    "# Output: [5,6,7,1,2,3,4]\n",
    "\n",
    "def rotateArray(num,k):\n",
    "    n = len(nums)\n",
    "    k = k % n  # Handle k > n\n",
    "    print(nums[:])\n",
    "    print(nums[-k:])\n",
    "    print(nums[:-k])\n",
    "    nums[:] = nums[-k:] + nums[:-k]  # Rotate in place\n",
    "    \n",
    "\n",
    "\n",
    "\n",
    "nums = [1,2,3,4,5,6,7]\n",
    "k = 3\n",
    "\n",
    "rotateArray(nums,k)\n",
    "print(nums)\n"
   ]
  },
  {
   "cell_type": "code",
   "execution_count": null,
   "id": "35975719",
   "metadata": {},
   "outputs": [],
   "source": []
  }
 ],
 "metadata": {
  "kernelspec": {
   "display_name": "Python 3",
   "language": "python",
   "name": "python3"
  },
  "language_info": {
   "codemirror_mode": {
    "name": "ipython",
    "version": 3
   },
   "file_extension": ".py",
   "mimetype": "text/x-python",
   "name": "python",
   "nbconvert_exporter": "python",
   "pygments_lexer": "ipython3",
   "version": "3.11.9"
  }
 },
 "nbformat": 4,
 "nbformat_minor": 5
}
