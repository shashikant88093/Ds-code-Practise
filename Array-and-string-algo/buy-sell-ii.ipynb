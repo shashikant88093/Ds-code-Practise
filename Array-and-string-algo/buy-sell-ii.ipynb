{
 "cells": [
  {
   "cell_type": "markdown",
   "id": "2fa96ee3",
   "metadata": {},
   "source": [
    "# Approch\n",
    "\n",
    "Input: prices = [7,1,5,3,6,4]\n",
    "Output: 7\n",
    "\n",
    "# Sudo Code\n",
    "1. Initialize `max_profit` to 0.\n",
    "2. Iterate through each price in the list:\n",
    "    - For each price, iterate through the subsequent prices.\n",
    "    - Calculate the profit by subtracting the current price from the future price.\n",
    "    - If the profit is greater than `max_profit`, update `max_profit`.\n",
    "    - Continue until all prices are checked.\n",
    "3. Return `max_profit`.\n",
    "\n",
    "**To maximize profit, the most effective strategy is to capture every upward price movement:**\n",
    "\n",
    "- For each day, if the price on the next day is higher than the current day, buy on the current day and sell on the next day.\n",
    "- By doing this for each upward movement, we accumulate all possible profits over the period.\n",
    "\n",
    "This approach works because we are allowed to trade multiple times as long as we only hold one stock at a time. The key is to add up all positive differences.\n",
    "    "
   ]
  },
  {
   "cell_type": "code",
   "execution_count": 11,
   "id": "0c45a18e",
   "metadata": {},
   "outputs": [
    {
     "name": "stdout",
     "output_type": "stream",
     "text": [
      "7\n",
      "7\n"
     ]
    }
   ],
   "source": [
    "def maxprofit(prices):\n",
    "        if not prices:\n",
    "            return 0 \n",
    "        maxProfit = 0\n",
    "        for i in range(len(prices) - 1):\n",
    "            if prices[i] < prices[i + 1]:\n",
    "                maxProfit += prices[i + 1] - prices[i]\n",
    "        print(maxProfit)\n",
    "        return maxProfit\n",
    "\n",
    "arr = [7,1,5,3,6,4]\n",
    "print(maxprofit(arr))"
   ]
  }
 ],
 "metadata": {
  "kernelspec": {
   "display_name": "Python 3",
   "language": "python",
   "name": "python3"
  },
  "language_info": {
   "codemirror_mode": {
    "name": "ipython",
    "version": 3
   },
   "file_extension": ".py",
   "mimetype": "text/x-python",
   "name": "python",
   "nbconvert_exporter": "python",
   "pygments_lexer": "ipython3",
   "version": "3.11.9"
  }
 },
 "nbformat": 4,
 "nbformat_minor": 5
}
