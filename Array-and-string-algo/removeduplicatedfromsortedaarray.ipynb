{
 "cells": [
  {
   "cell_type": "code",
   "execution_count": 10,
   "id": "2d500f70",
   "metadata": {},
   "outputs": [
    {
     "name": "stdout",
     "output_type": "stream",
     "text": [
      "[1, 1, 2, 2, 3]\n"
     ]
    }
   ],
   "source": [
    "\n",
    "def sortedArray(nums):\n",
    "    \"\"\"\n",
    "    :type nums: List[int]\n",
    "    :rtype: int\n",
    "    \"\"\"\n",
    "    freq = {}\n",
    "    for n in nums:\n",
    "        if (freq.get(n, 0) + 1) <= 2:\n",
    "            freq[n] = freq.get(n, 0) + 1\n",
    "\n",
    "    newList = [num for num, count in freq.items() for _ in range(count)]\n",
    "    # Output: [1, 1, 2, 2, 3]\n",
    "    print(newList)\n",
    "\n",
    "\n",
    "nums = [1, 1, 1, 2, 2, 3]\n",
    "\n",
    "sortedArray(nums)\n"
   ]
  },
  {
   "cell_type": "code",
   "execution_count": 12,
   "id": "f59f2615",
   "metadata": {},
   "outputs": [
    {
     "name": "stdout",
     "output_type": "stream",
     "text": [
      "[1, 1, 2, 2, 3, 3]\n"
     ]
    },
    {
     "data": {
      "text/plain": [
       "5"
      ]
     },
     "execution_count": 12,
     "metadata": {},
     "output_type": "execute_result"
    }
   ],
   "source": [
    "def sortedArray(nums):    \n",
    "    unique = 0\n",
    "    for num in nums:\n",
    "        if unique < 2 or num != nums[unique - 2]:\n",
    "            nums[unique] = num\n",
    "            unique += 1\n",
    "    print(nums)\n",
    "    return unique\n",
    "nums = [1, 1, 1, 2, 2, 3]\n",
    "\n",
    "sortedArray(nums)"
   ]
  }
 ],
 "metadata": {
  "kernelspec": {
   "display_name": "Python 3",
   "language": "python",
   "name": "python3"
  },
  "language_info": {
   "codemirror_mode": {
    "name": "ipython",
    "version": 3
   },
   "file_extension": ".py",
   "mimetype": "text/x-python",
   "name": "python",
   "nbconvert_exporter": "python",
   "pygments_lexer": "ipython3",
   "version": "3.11.9"
  }
 },
 "nbformat": 4,
 "nbformat_minor": 5
}
