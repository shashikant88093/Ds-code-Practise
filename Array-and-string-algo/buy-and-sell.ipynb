{
 "cells": [
  {
   "cell_type": "code",
   "execution_count": 8,
   "id": "d1a06a4d",
   "metadata": {},
   "outputs": [
    {
     "name": "stdout",
     "output_type": "stream",
     "text": [
      "Best Buy Price: 1\n",
      "Maximum Profit: 5\n",
      "5\n"
     ]
    }
   ],
   "source": [
    "# Input: prices = [7,1,5,3,6,4]\n",
    "# Output: 5\n",
    "maxprofits=0\n",
    "def maxProfit(prices):\n",
    "    if not prices:\n",
    "        return 0\n",
    "\n",
    "    bestBuy = prices[0]\n",
    "    maxProfits = 0\n",
    "\n",
    "    for price in prices:\n",
    "        bestBuy = min(bestBuy, price)\n",
    "        maxProfits = max(maxProfits, price - bestBuy)\n",
    "\n",
    "    print(\"Best Buy Price:\", bestBuy)\n",
    "    print(\"Maximum Profit:\", maxProfits)\n",
    "    return maxProfits\n",
    "\n",
    "\n",
    "prices = [7,1,5,3,6,4]\n",
    "print(maxProfit(prices))"
   ]
  }
 ],
 "metadata": {
  "kernelspec": {
   "display_name": "Python 3",
   "language": "python",
   "name": "python3"
  },
  "language_info": {
   "codemirror_mode": {
    "name": "ipython",
    "version": 3
   },
   "file_extension": ".py",
   "mimetype": "text/x-python",
   "name": "python",
   "nbconvert_exporter": "python",
   "pygments_lexer": "ipython3",
   "version": "3.11.9"
  }
 },
 "nbformat": 4,
 "nbformat_minor": 5
}
