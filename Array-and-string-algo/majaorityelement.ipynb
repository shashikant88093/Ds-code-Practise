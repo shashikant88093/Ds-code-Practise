{
 "cells": [
  {
   "cell_type": "code",
   "execution_count": 4,
   "id": "a8c7c1aa",
   "metadata": {},
   "outputs": [
    {
     "name": "stdout",
     "output_type": "stream",
     "text": [
      "{3: 2, 2: 1}\n",
      "3\n"
     ]
    }
   ],
   "source": [
    "def majorityElement(nums):\n",
    "    freq={}\n",
    "    for n in nums:\n",
    "        freq[n] = freq.get(n,0) + 1\n",
    "    print(freq)\n",
    "    num,count = max(freq.items(), key=lambda x: x[1])\n",
    "    print(num)\n",
    "nums = [3,2,3]\n",
    "majorityElement(nums)"
   ]
  }
 ],
 "metadata": {
  "kernelspec": {
   "display_name": "Python 3",
   "language": "python",
   "name": "python3"
  },
  "language_info": {
   "codemirror_mode": {
    "name": "ipython",
    "version": 3
   },
   "file_extension": ".py",
   "mimetype": "text/x-python",
   "name": "python",
   "nbconvert_exporter": "python",
   "pygments_lexer": "ipython3",
   "version": "3.11.9"
  }
 },
 "nbformat": 4,
 "nbformat_minor": 5
}
