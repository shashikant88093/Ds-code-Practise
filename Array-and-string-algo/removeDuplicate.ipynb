{
 "cells": [
  {
   "cell_type": "code",
   "execution_count": 8,
   "id": "ea6f0883",
   "metadata": {},
   "outputs": [
    {
     "name": "stdout",
     "output_type": "stream",
     "text": [
      "2 [1, 2]\n"
     ]
    }
   ],
   "source": [
    "def removeDuplicates(nums):\n",
    "    if not nums:\n",
    "        return 0\n",
    "\n",
    "    unique = 1  # position where next unique number should go\n",
    "\n",
    "    for i in range(1, len(nums)):\n",
    "        if nums[i] != nums[i - 1]:  # compare with previous element\n",
    "            nums[unique] = nums[i]  # place the unique value at the right position\n",
    "            unique += 1\n",
    "\n",
    "    return unique\n",
    "\n",
    "nums = [1, 1, 2]\n",
    "k = removeDuplicates(nums)\n",
    "print(k, nums[:k])  # Output: 2 [1, 2]\n",
    "\n"
   ]
  }
 ],
 "metadata": {
  "kernelspec": {
   "display_name": "Python 3",
   "language": "python",
   "name": "python3"
  },
  "language_info": {
   "codemirror_mode": {
    "name": "ipython",
    "version": 3
   },
   "file_extension": ".py",
   "mimetype": "text/x-python",
   "name": "python",
   "nbconvert_exporter": "python",
   "pygments_lexer": "ipython3",
   "version": "3.11.9"
  }
 },
 "nbformat": 4,
 "nbformat_minor": 5
}
