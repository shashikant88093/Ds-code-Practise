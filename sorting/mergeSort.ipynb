{
 "cells": [
  {
   "cell_type": "markdown",
   "id": "2bf8c371",
   "metadata": {},
   "source": [
    "# Merge Sort ?\n",
    "- Merge Sort is a Divide and Conquer algorithm:\n",
    "- Divide the array into halves until you can't anymore (i.e., subarrays of size 1).\n",
    "- Conquer by merging them back together in sorted order."
   ]
  },
  {
   "cell_type": "code",
   "execution_count": null,
   "id": "a0666210",
   "metadata": {},
   "outputs": [
    {
     "name": "stdout",
     "output_type": "stream",
     "text": [
      "Splitting: [6, 3, 7, 5, 2, 8]\n",
      "  Splitting: [6, 3, 7]\n",
      "    Returning: [6]\n",
      "    Splitting: [3, 7]\n",
      "      Returning: [3]\n",
      "      Returning: [7]\n",
      "      Merging: [3] + [7]\n",
      "    Merged: [3, 7]\n",
      "    Merging: [6] + [3, 7]\n",
      "  Merged: [3, 6, 7]\n",
      "  Splitting: [5, 2, 8]\n",
      "    Returning: [5]\n",
      "    Splitting: [2, 8]\n",
      "      Returning: [2]\n",
      "      Returning: [8]\n",
      "      Merging: [2] + [8]\n",
      "    Merged: [2, 8]\n",
      "    Merging: [5] + [2, 8]\n",
      "  Merged: [2, 5, 8]\n",
      "  Merging: [3, 6, 7] + [2, 5, 8]\n",
      "Merged: [2, 3, 5, 6, 7, 8]\n"
     ]
    },
    {
     "data": {
      "text/plain": [
       "[2, 3, 5, 6, 7, 8]"
      ]
     },
     "execution_count": 1,
     "metadata": {},
     "output_type": "execute_result"
    }
   ],
   "source": [
    "def merge_sort_visual(arr, level=0):\n",
    "    indent = \"  \" * level\n",
    "    if len(arr) <= 1:\n",
    "        print(f\"{indent}Returning: {arr}\")\n",
    "        return arr\n",
    "\n",
    "    print(f\"{indent}Splitting: {arr}\")\n",
    "    mid = len(arr) // 2\n",
    "    left = merge_sort_visual(arr[:mid], level + 1)\n",
    "    right = merge_sort_visual(arr[mid:], level + 1)\n",
    "\n",
    "    merged = merge_visual(left, right, level + 1)\n",
    "    print(f\"{indent}Merged: {merged}\")\n",
    "    return merged\n",
    "\n",
    "def merge_visual(left, right, level):\n",
    "    indent = \"  \" * level\n",
    "    print(f\"{indent}Merging: {left} + {right}\")\n",
    "    result = []\n",
    "    i = j = 0\n",
    "    while i < len(left) and j < len(right):\n",
    "        if left[i] < right[j]:\n",
    "            result.append(left[i])\n",
    "            i += 1\n",
    "        else:\n",
    "            result.append(right[j])\n",
    "            j += 1\n",
    "    result.extend(left[i:])\n",
    "    result.extend(right[j:])\n",
    "    return result\n",
    "\n",
    "# Example\n",
    "arr = [6, 3, 7, 5, 2, 8]\n",
    "merge_sort_visual(arr)\n"
   ]
  },
  {
   "cell_type": "markdown",
   "id": "0ca9caba",
   "metadata": {},
   "source": [
    "# Merge furmula \n",
    "\n",
    "- First Mid = st+end/2  // This is having integer overflow problem\n",
    "- Seacond Mid = st + (end - st)/2  // This is not having integer overflow problem\n",
    "- Left mergesort(arr,st,mid)\n",
    "- Right mergesort(arr,mid+1,end)\n",
    "- merge(arr,st,mid,end)"
   ]
  },
  {
   "cell_type": "code",
   "execution_count": 5,
   "id": "d63f14b1",
   "metadata": {},
   "outputs": [
    {
     "name": "stdout",
     "output_type": "stream",
     "text": [
      "Sorted Array: [8, 12, 17, 31, 32, 35]\n"
     ]
    }
   ],
   "source": [
    "arr = [12, 31, 35, 8, 32, 17]\n",
    "\n",
    "def merge(arr, st, mid, end):\n",
    "    temp = []\n",
    "    i = st\n",
    "    j = mid + 1\n",
    "\n",
    "    while i <= mid and j <= end:\n",
    "        if arr[i] <= arr[j]:\n",
    "            temp.append(arr[i])\n",
    "            i += 1\n",
    "        else:\n",
    "            temp.append(arr[j])\n",
    "            j += 1\n",
    "\n",
    "    while i <= mid:\n",
    "        temp.append(arr[i])\n",
    "        i += 1\n",
    "\n",
    "    while j <= end:\n",
    "        temp.append(arr[j])\n",
    "        j += 1\n",
    "\n",
    "    for idx in range(len(temp)):\n",
    "        arr[st + idx] = temp[idx]\n",
    "\n",
    "def mergeSort(arr, st, end):\n",
    "    if st < end:\n",
    "        mid = (st + end) // 2\n",
    "        mergeSort(arr, st, mid)\n",
    "        mergeSort(arr, mid + 1, end)\n",
    "        merge(arr, st, mid, end)\n",
    "\n",
    "# Run it\n",
    "mergeSort(arr, 0, len(arr) - 1)\n",
    "print(\"Sorted Array:\", arr)\n"
   ]
  },
  {
   "cell_type": "code",
   "execution_count": null,
   "id": "8ceda6cb",
   "metadata": {},
   "outputs": [
    {
     "name": "stdout",
     "output_type": "stream",
     "text": [
      "2 2\n",
      "2 1\n",
      "2 0\n",
      "1 0\n",
      "Merged: [1, 2, 2, 3, 5, 6]\n"
     ]
    }
   ],
   "source": [
    "def merged(nums1, m, nums2, n):\n",
    "    # Start filling from the end\n",
    "    i = m - 1  # last index in nums1's valid part\n",
    "    j = n - 1  # last index in nums2\n",
    "    k = m + n - 1  # last index in nums1's total capacity\n",
    "\n",
    "    while i >= 0 and j >= 0:\n",
    "        if nums1[i] > nums2[j]:\n",
    "            nums1[k] = nums1[i]\n",
    "            i -= 1\n",
    "        else:\n",
    "            nums1[k] = nums2[j]\n",
    "            j -= 1\n",
    "        k -= 1\n",
    "\n",
    "    # If there are remaining elements in nums2\n",
    "    while j >= 0:\n",
    "        nums1[k] = nums2[j]\n",
    "        j -= 1\n",
    "        k -= 1\n",
    "\n",
    "    print(\"Merged:\", nums1)\n",
    "\n",
    "# Example usage\n",
    "nums1 = [1,2,3,0,0,0]\n",
    "m = 3\n",
    "nums2 = [2,5,6]\n",
    "n = 3\n",
    "merged(nums1, m, nums2, n)\n"
   ]
  }
 ],
 "metadata": {
  "kernelspec": {
   "display_name": "Python 3",
   "language": "python",
   "name": "python3"
  },
  "language_info": {
   "codemirror_mode": {
    "name": "ipython",
    "version": 3
   },
   "file_extension": ".py",
   "mimetype": "text/x-python",
   "name": "python",
   "nbconvert_exporter": "python",
   "pygments_lexer": "ipython3",
   "version": "3.11.9"
  }
 },
 "nbformat": 4,
 "nbformat_minor": 5
}
