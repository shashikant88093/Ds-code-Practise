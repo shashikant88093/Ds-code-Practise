{
 "cells": [
  {
   "cell_type": "markdown",
   "id": "84cd8253",
   "metadata": {},
   "source": [
    "📌 7️⃣ Functions\n",
    "🔵 What is a Function?\n",
    "A function is a block of reusable code.\n",
    "\n",
    "Helps make code modular and organized.\n",
    "\n",
    "✅ Defining and Calling a Function\n",
    "\n",
    "\n",
    "def greet():\n",
    "    print(\"Hello, Python!\")\n",
    "\n",
    "greet()  # Call function\n",
    "\n",
    "\n",
    "✅ Function with Return Value\n",
    "\n",
    "def add(a, b):\n",
    "    return a + b\n",
    "\n",
    "result = add(5, 3)\n",
    "print(result)  # 8\n",
    "\n",
    "\n",
    "✅ Default Parameter\n",
    "\n",
    "def greet(name=\"Guest\"):\n",
    "    print(f\"Hello, {name}!\")\n",
    "\n",
    "greet()          # Hello, Guest!\n",
    "greet(\"Alice\")   # Hello, Alice!\n",
    "\n",
    "\n",
    "✅ Lambda (Anonymous) Functions\n",
    "Used for short, one-line functions.\n",
    "\n",
    "\n",
    "square = lambda x: x**2\n",
    "print(square(5))  # 25\n",
    "                                                                                                                                                                                                                                                                                                                                                                                                                        "
   ]
  }
 ],
 "metadata": {
  "language_info": {
   "name": "python"
  }
 },
 "nbformat": 4,
 "nbformat_minor": 5
}
