{
 "cells": [
  {
   "cell_type": "markdown",
   "id": "816e421f",
   "metadata": {},
   "source": [
    "🔵 1️⃣ What is a Variable?\n",
    "A variable is like a container that stores data in memory.\n",
    "\n",
    "In Python, you don’t declare a variable type explicitly (dynamic typing).\n",
    "\n",
    "The type is inferred automatically based on the value you assign."
   ]
  },
  {
   "cell_type": "code",
   "execution_count": 1,
   "id": "78ef9c17",
   "metadata": {},
   "outputs": [],
   "source": [
    "name = \"Shashikant\"\n",
    "age = 30\n",
    "is_developer = True\n"
   ]
  },
  {
   "cell_type": "markdown",
   "id": "3ec02dc0",
   "metadata": {},
   "source": [
    "🔵 2️⃣ Rules for Naming Variables\n",
    "✅ Allowed\n",
    "\n",
    "Can contain letters (a-z, A-Z), digits (0-9), and underscores (_)\n",
    "\n",
    "Must start with a letter or underscore (not a digit)\n",
    "\n",
    "Are case-sensitive"
   ]
  },
  {
   "cell_type": "code",
   "execution_count": null,
   "id": "84b55934",
   "metadata": {},
   "outputs": [],
   "source": [
    "user_name = \"John\"\n",
    "_user = \"private\"\n",
    "age2 = 25\n",
    "\n",
    "2age = 25     # ❌ cannot start with digit\n",
    "user-name = \"John\"  # ❌ hyphen not allowed\n"
   ]
  },
  {
   "cell_type": "markdown",
   "id": "96dbe8b1",
   "metadata": {},
   "source": [
    "🔵 3️⃣ Types of Variables\n",
    "Python has:\n",
    "\n",
    "Mutable Variables (can change value): list, dict, set\n",
    "\n",
    "Immutable Variables (cannot change value): int, float, tuple, str"
   ]
  },
  {
   "cell_type": "code",
   "execution_count": 6,
   "id": "960b1eb4",
   "metadata": {},
   "outputs": [],
   "source": [
    "x = 10\n",
    "x = 20  # reassign is fine\n",
    "\n",
    "lst = [1, 2, 3]\n",
    "lst.append(4)  # ✅ changes the same list (mutable)\n"
   ]
  },
  {
   "cell_type": "code",
   "execution_count": 7,
   "id": "4e3b215d",
   "metadata": {},
   "outputs": [
    {
     "name": "stdout",
     "output_type": "stream",
     "text": [
      "10 20 30\n",
      "1 2 3\n"
     ]
    }
   ],
   "source": [
    "# 🔵 4️⃣ Assigning Values to Variables\n",
    "# ✅ Single Assignment\n",
    "\n",
    "x = 5\n",
    "name = \"Alice\"\n",
    "# ✅ Multiple Assignment\n",
    "\n",
    "a, b, c = 10, 20, 30\n",
    "print(a, b, c)  # 10 20 30\n",
    "# ✅ Same Value to Multiple Variables\n",
    "\n",
    "x = y = z = 100\n",
    "# ✅ Unpacking Collections\n",
    "\n",
    "nums = [1, 2, 3]\n",
    "a, b, c = nums\n",
    "print(a, b, c)  # 1 2 3\n"
   ]
  },
  {
   "cell_type": "markdown",
   "id": "116552f8",
   "metadata": {},
   "source": [
    "🔵 5️⃣ Data Types in Python\n",
    "Python has 14 major built-in data types:\n",
    "\n",
    "📍 1. Numeric Types\n",
    "int – Whole numbers\n",
    "\n",
    "float – Decimal numbers\n",
    "\n",
    "complex – Numbers with imaginary part\n",
    "\n",
    "a = 10        # int\n",
    "b = 3.14      # float\n",
    "c = 2 + 3j    # complex\n",
    "\n",
    "print(type(a))  # <class 'int'>\n",
    "print(type(b))  # <class 'float'>\n",
    "print(type(c))  # <class 'complex'>\n",
    "\n",
    "📍 2. Text Type\n",
    "str – Sequence of characters\n",
    "\n",
    "✅ Example:\n",
    "\n",
    "name = \"Python\"\n",
    "print(name.upper())  # PYTHON\n",
    "\n",
    "📍 3. Sequence Types\n",
    "list – Mutable, ordered collection\n",
    "\n",
    "tuple – Immutable, ordered collection\n",
    "\n",
    "range – Sequence of numbers\n",
    "\n",
    "✅ Examples:\n",
    "my_list = [1, 2, 3]\n",
    "my_tuple = (4, 5, 6)\n",
    "my_range = range(1, 5)  # 1, 2, 3, 4\n",
    "\n",
    "\n",
    "📍 4. Set Types\n",
    "set – Unordered, mutable collection (unique items)\n",
    "\n",
    "frozenset – Immutable version of set\n",
    "\n",
    "✅ Example:\n",
    "\n",
    "my_set = {1, 2, 3, 3}\n",
    "print(my_set)  # {1, 2, 3} (duplicates removed)\n",
    "\n",
    "📍 5. Mapping Type\n",
    "dict – Key-value pairs\n",
    "\n",
    "✅ Example:\n",
    "\n",
    "person = {\"name\": \"Shashi\", \"age\": 30}\n",
    "print(person[\"name\"])  # Shashi\n",
    "\n",
    "\n",
    "📍 6. Boolean Type\n",
    "bool – Only two values: True or False\n",
    "\n",
    "✅ Example:\n",
    "\n",
    "is_active = True\n",
    "print(is_active)  # True\n",
    "\n",
    "\n",
    "📍 7. None Type\n",
    "Represents no value or null\n",
    "\n",
    "data = None\n",
    "print(type(data))  # <class 'NoneType'>\n",
    "\n",
    "\n",
    "🔵 6️⃣ Type Conversion (Casting)\n",
    "✅ Implicit Conversion (done automatically)\n",
    "\n",
    "x = 5       # int\n",
    "y = 2.5     # float\n",
    "z = x + y   # int converted to float automatically\n",
    "print(z)    # 7.5\n",
    "\n",
    "✅ Explicit Conversion (manual casting)\n",
    "\n",
    "a = int(3.5)   # 3\n",
    "b = float(5)   # 5.0\n",
    "c = str(10)    # \"10\"\n",
    "\n",
    "🔵 7️⃣ Checking and Getting Type Info\n",
    "✅ type() → returns type\n",
    "\n",
    "x = 10\n",
    "print(type(x))  # <class 'int'>\n",
    "\n",
    "\n",
    "✅ isinstance() → checks if variable is a specific type\n",
    "\n",
    "x = 10\n",
    "print(isinstance(x, int))  # True\n",
    "\n",
    "\n",
    "🔵 8️⃣ Advanced Concepts\n",
    "✅ Dynamic Typing\n",
    "Python allows reassigning a variable to a different type:\n",
    "\n",
    "x = 10       # int\n",
    "x = \"Hello\"  # now a string\n",
    "\n",
    "✅ Object References\n",
    "Variables are references, not actual storage:\n",
    "\n",
    "a = [1, 2, 3]\n",
    "b = a\n",
    "b.append(4)\n",
    "print(a)  # [1, 2, 3, 4]\n",
    "\n",
    "✅ id() Function\n",
    "Shows memory address of the variable\n",
    "\n",
    "x = 100\n",
    "print(id(x))\n"
   ]
  },
  {
   "cell_type": "code",
   "execution_count": 8,
   "id": "815d7beb",
   "metadata": {},
   "outputs": [
    {
     "name": "stdout",
     "output_type": "stream",
     "text": [
      "140704771047304\n"
     ]
    }
   ],
   "source": [
    "x = 100\n",
    "print(id(x))"
   ]
  }
 ],
 "metadata": {
  "kernelspec": {
   "display_name": "Python 3",
   "language": "python",
   "name": "python3"
  },
  "language_info": {
   "codemirror_mode": {
    "name": "ipython",
    "version": 3
   },
   "file_extension": ".py",
   "mimetype": "text/x-python",
   "name": "python",
   "nbconvert_exporter": "python",
   "pygments_lexer": "ipython3",
   "version": "3.11.9"
  }
 },
 "nbformat": 4,
 "nbformat_minor": 5
}
