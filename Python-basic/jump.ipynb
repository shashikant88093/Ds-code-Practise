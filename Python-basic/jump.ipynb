{
 "cells": [
  {
   "cell_type": "markdown",
   "id": "d61352d1",
   "metadata": {},
   "source": [
    "# ⏩ Python – Jump Statements\n",
    "\n",
    "## 🔵 1️⃣ What Are Jump Statements?\n",
    "Jump statements in Python are used to **alter the normal flow** of a program inside loops.  \n",
    "\n",
    "Python supports **three jump statements**:  \n",
    "1. **break** → Exits the loop completely  \n",
    "2. **continue** → Skips the current iteration and moves to the next  \n",
    "3. **pass** → Does nothing (acts as a placeholder)\n",
    "\n",
    "---\n",
    "\n",
    "## 🔵 2️⃣ `break` Statement\n",
    "✅ **Purpose:** Immediately **terminates** the loop when a condition is met.\n",
    "\n",
    "✅ **Example:**\n",
    "```python\n",
    "for i in range(1, 6):\n",
    "    if i == 3:\n",
    "        break\n",
    "    print(i)\n",
    "\n",
    "\n",
    "✔️ Loop stops when i == 3.\n",
    "\n",
    "✅ Also works in while loops:\n",
    "\n",
    "n = 1\n",
    "while n <= 5:\n",
    "    if n == 4:\n",
    "        break\n",
    "    print(n)\n",
    "    n += 1\n",
    "\n",
    "\n",
    "🔵 3️⃣ continue Statement\n",
    "✅ Purpose: Skips the current loop iteration and jumps to the next one.\n",
    "\n",
    "✅ Example:\n",
    "\n",
    "for i in range(1, 6):\n",
    "    if i == 3:\n",
    "        continue\n",
    "    print(i)\n",
    "\n"
   ]
  }
 ],
 "metadata": {
  "language_info": {
   "name": "python"
  }
 },
 "nbformat": 4,
 "nbformat_minor": 5
}
