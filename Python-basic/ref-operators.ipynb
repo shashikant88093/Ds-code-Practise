{
 "cells": [
  {
   "cell_type": "markdown",
   "id": "b15ac6ff",
   "metadata": {},
   "source": [
    "📘 Python – References & Operators\n",
    "🔵 1️⃣ References (Ref) in Python\n",
    "✅ What is a Reference?\n",
    "In Python, variables don’t store the actual value directly.\n",
    "\n",
    "Instead, they store a reference (pointer) to an object in memory.\n",
    "\n",
    "This means multiple variables can point to the same object.\n",
    "\n",
    "✅ Example\n",
    "a = [1, 2, 3]\n",
    "b = a   # b references the same list as a\n",
    "b.append(4)\n",
    "\n",
    "print(a)  # [1, 2, 3, 4] – a also gets updated!\n",
    "\n",
    "➡ Both a and b point to the same memory location."
   ]
  },
  {
   "cell_type": "markdown",
   "id": "3d4934e7",
   "metadata": {},
   "source": [
    "✅ id() Function – Check Object Reference"
   ]
  },
  {
   "cell_type": "code",
   "execution_count": 3,
   "id": "3540eb74",
   "metadata": {},
   "outputs": [
    {
     "name": "stdout",
     "output_type": "stream",
     "text": [
      "140704771044424\n",
      "140704771044424\n"
     ]
    }
   ],
   "source": [
    "x = 10\n",
    "y = x\n",
    "print(id(x))  # memory address of x\n",
    "print(id(y))  # same as x\n"
   ]
  },
  {
   "cell_type": "markdown",
   "id": "5c9f3c8a",
   "metadata": {},
   "source": [
    "✅ Mutable vs Immutable and References\n",
    "Mutable objects (can change without creating a new object): list, dict, set\n",
    "\n",
    "Immutable objects (create a new object if changed): int, float, str, tuple\n",
    "\n",
    "✅ Immutable Example"
   ]
  },
  {
   "cell_type": "code",
   "execution_count": 4,
   "id": "8324e7c9",
   "metadata": {},
   "outputs": [
    {
     "name": "stdout",
     "output_type": "stream",
     "text": [
      "140704771044264\n",
      "140704771044296\n"
     ]
    }
   ],
   "source": [
    "x = 5\n",
    "print(id(x))      # e.g. 140736\n",
    "x = x + 1         # creates new object\n",
    "print(id(x))      # different memory address\n"
   ]
  },
  {
   "cell_type": "markdown",
   "id": "7d3ee75c",
   "metadata": {},
   "source": [
    "✅ Mutable Example"
   ]
  },
  {
   "cell_type": "code",
   "execution_count": 5,
   "id": "6c177d9b",
   "metadata": {},
   "outputs": [
    {
     "name": "stdout",
     "output_type": "stream",
     "text": [
      "2943419223552\n",
      "2943419223552\n"
     ]
    }
   ],
   "source": [
    "lst = [1, 2, 3]\n",
    "print(id(lst))\n",
    "lst.append(4)     # modifies same object\n",
    "print(id(lst))    # same memory address\n"
   ]
  },
  {
   "cell_type": "markdown",
   "id": "c16060af",
   "metadata": {},
   "source": [
    "✅ Copying References\n",
    "Shallow Copy (assignment) – new variable points to same object\n",
    "\n",
    "Deep Copy – new object is created\n",
    "\n",
    "✅ Example:"
   ]
  },
  {
   "cell_type": "code",
   "execution_count": 6,
   "id": "4cadd9c1",
   "metadata": {},
   "outputs": [
    {
     "name": "stdout",
     "output_type": "stream",
     "text": [
      "[1, 2, 3, 4]\n",
      "[1, 2, 3]\n"
     ]
    }
   ],
   "source": [
    "import copy\n",
    "\n",
    "a = [1, 2, 3]\n",
    "b = a            # shallow copy\n",
    "c = copy.deepcopy(a)  # deep copy\n",
    "\n",
    "b.append(4)\n",
    "print(a)  # [1, 2, 3, 4] – because b points to same list\n",
    "print(c)  # [1, 2, 3] – deep copy unaffected\n"
   ]
  },
  {
   "cell_type": "markdown",
   "id": "d404676f",
   "metadata": {},
   "source": [
    "🔵 2️⃣ Operators in Python\n",
    "Operators are symbols that perform operations on variables/values.\n",
    "📍 Types of Operators\n",
    "✅ 1. Arithmetic Operators\n",
    "\n",
    "Perform mathematical operations"
   ]
  },
  {
   "cell_type": "code",
   "execution_count": 7,
   "id": "df9f4166",
   "metadata": {},
   "outputs": [
    {
     "name": "stdout",
     "output_type": "stream",
     "text": [
      "13\n",
      "7\n",
      "30\n",
      "3.3333333333333335\n",
      "3\n",
      "1\n",
      "1000\n"
     ]
    }
   ],
   "source": [
    "a, b = 10, 3\n",
    "print(a + b)   # 13 (addition)\n",
    "print(a - b)   # 7  (subtraction)\n",
    "print(a * b)   # 30 (multiplication)\n",
    "print(a / b)   # 3.333... (division)\n",
    "print(a // b)  # 3 (floor division)\n",
    "print(a % b)   # 1 (modulus)\n",
    "print(a ** b)  # 1000 (power)\n"
   ]
  },
  {
   "cell_type": "markdown",
   "id": "75b1d014",
   "metadata": {},
   "source": [
    "✅ 2. Assignment Operators\n",
    "\n",
    "Assign values to variables"
   ]
  },
  {
   "cell_type": "code",
   "execution_count": 8,
   "id": "6fe7971d",
   "metadata": {},
   "outputs": [],
   "source": [
    "x = 5\n",
    "x += 2   # x = x + 2 → 7\n",
    "x -= 1   # x = x - 1 → 6\n",
    "x *= 2   # x = x * 2 → 12\n",
    "x /= 3   # x = x / 3 → 4.0\n"
   ]
  },
  {
   "cell_type": "markdown",
   "id": "1ccf0d06",
   "metadata": {},
   "source": [
    "✅ 3. Comparison (Relational) Operators\n",
    "\n",
    "Compare two values, return True/False"
   ]
  },
  {
   "cell_type": "code",
   "execution_count": 9,
   "id": "ad6efee2",
   "metadata": {},
   "outputs": [
    {
     "name": "stdout",
     "output_type": "stream",
     "text": [
      "False\n",
      "True\n",
      "True\n",
      "False\n"
     ]
    }
   ],
   "source": [
    "a, b = 10, 5\n",
    "print(a == b)   # False\n",
    "print(a != b)   # True\n",
    "print(a > b)    # True\n",
    "print(a <= b)   # False\n"
   ]
  },
  {
   "cell_type": "markdown",
   "id": "cb2acc43",
   "metadata": {},
   "source": [
    "✅ 4. Logical Operators\n",
    "\n",
    "Combine conditions"
   ]
  },
  {
   "cell_type": "code",
   "execution_count": 10,
   "id": "e819b1d1",
   "metadata": {},
   "outputs": [
    {
     "name": "stdout",
     "output_type": "stream",
     "text": [
      "False\n",
      "True\n",
      "False\n"
     ]
    }
   ],
   "source": [
    "x, y = True, False\n",
    "print(x and y)  # False\n",
    "print(x or y)   # True\n",
    "print(not x)    # False\n"
   ]
  },
  {
   "cell_type": "markdown",
   "id": "3243c3d5",
   "metadata": {},
   "source": [
    "✅ 5. Identity Operators\n",
    "\n",
    "Check if two variables point to the same object"
   ]
  },
  {
   "cell_type": "code",
   "execution_count": 11,
   "id": "f4cd9bc5",
   "metadata": {},
   "outputs": [
    {
     "name": "stdout",
     "output_type": "stream",
     "text": [
      "True\n",
      "False\n",
      "True\n"
     ]
    }
   ],
   "source": [
    "a = [1, 2]\n",
    "b = a\n",
    "c = [1, 2]\n",
    "\n",
    "print(a is b)      # True (same reference)\n",
    "print(a is c)      # False (different objects)\n",
    "print(a is not c)  # True\n"
   ]
  },
  {
   "cell_type": "markdown",
   "id": "7566f858",
   "metadata": {},
   "source": [
    "✅ 6. Membership Operators\n",
    "\n",
    "Check if a value exists in a sequence (list, str, dict)"
   ]
  },
  {
   "cell_type": "code",
   "execution_count": 12,
   "id": "df64841c",
   "metadata": {},
   "outputs": [
    {
     "name": "stdout",
     "output_type": "stream",
     "text": [
      "True\n",
      "True\n"
     ]
    }
   ],
   "source": [
    "nums = [1, 2, 3]\n",
    "print(2 in nums)      # True\n",
    "print(5 not in nums)  # True\n"
   ]
  },
  {
   "cell_type": "markdown",
   "id": "edda5347",
   "metadata": {},
   "source": [
    "✅ 7. Bitwise Operators\n",
    "\n",
    "Work at binary level"
   ]
  },
  {
   "cell_type": "code",
   "execution_count": 13,
   "id": "acf88f5a",
   "metadata": {},
   "outputs": [
    {
     "name": "stdout",
     "output_type": "stream",
     "text": [
      "1\n",
      "7\n",
      "6\n",
      "-6\n",
      "10\n",
      "2\n"
     ]
    }
   ],
   "source": [
    "a, b = 5, 3\n",
    "# 5 = 101, 3 = 011\n",
    "print(a & b)   # 1  (AND)\n",
    "print(a | b)   # 7  (OR)\n",
    "print(a ^ b)   # 6  (XOR)\n",
    "print(~a)      # -6 (NOT)\n",
    "print(a << 1)  # 10 (shift left)\n",
    "print(a >> 1)  # 2  (shift right)\n"
   ]
  },
  {
   "cell_type": "markdown",
   "id": "ff45680f",
   "metadata": {},
   "source": [
    "🔵 3️⃣ Operator Precedence\n",
    "Python follows order of operations (like BODMAS):\n",
    "\n",
    "() – Parentheses\n",
    "\n",
    "** – Exponent\n",
    "\n",
    "* / // % – Multiplication, Division\n",
    "\n",
    "+ - – Addition, Subtraction\n",
    "\n",
    "<< >> – Bitwise shift\n",
    "\n",
    "& – Bitwise AND\n",
    "\n",
    "^ | – XOR, OR\n",
    "\n",
    "== != > < – Comparisons\n",
    "\n",
    "not\n",
    "\n",
    "and\n",
    "\n",
    "or"
   ]
  },
  {
   "cell_type": "code",
   "execution_count": 14,
   "id": "d431fe3c",
   "metadata": {},
   "outputs": [
    {
     "name": "stdout",
     "output_type": "stream",
     "text": [
      "50\n"
     ]
    }
   ],
   "source": [
    "result = 2 + 3 * 4 ** 2\n",
    "print(result)  # 50 (4**2=16, 3*16=48, 2+48=50)\n"
   ]
  },
  {
   "cell_type": "markdown",
   "id": "6012f37c",
   "metadata": {},
   "source": [
    "🔵 4️⃣ Special Notes\n",
    "✅ Short-Circuiting in Logical Operators"
   ]
  },
  {
   "cell_type": "code",
   "execution_count": 15,
   "id": "29d4a62b",
   "metadata": {},
   "outputs": [
    {
     "name": "stdout",
     "output_type": "stream",
     "text": [
      "False\n",
      "True\n"
     ]
    }
   ],
   "source": [
    "def test():\n",
    "    print(\"Function called\")\n",
    "    return True\n",
    "\n",
    "print(False and test())  # Function is NOT called\n",
    "print(True or test())    # Function is NOT called\n"
   ]
  },
  {
   "cell_type": "markdown",
   "id": "dc7ce76f",
   "metadata": {},
   "source": [
    "➡ Logical operators stop evaluating early if the result is already known.\n",
    "\n",
    "✅ Chained Comparisons\n",
    "x = 5\n",
    "print(1 < x < 10)  # True (equivalent to 1 < x and x < 10)\n",
    "\n",
    "✅ Operator Overloading\n",
    "\n",
    "Python allows defining custom meaning for operators in classes.\n",
    "\n",
    "class Demo:\n",
    "    def __init__(self, value):\n",
    "        self.value = value\n",
    "    def __add__(self, other):\n",
    "        return self.value + other.value\n",
    "\n",
    "a = Demo(5)\n",
    "b = Demo(10)\n",
    "print(a + b)  # 15 (overloaded + operator)\n"
   ]
  }
 ],
 "metadata": {
  "kernelspec": {
   "display_name": "Python 3",
   "language": "python",
   "name": "python3"
  },
  "language_info": {
   "codemirror_mode": {
    "name": "ipython",
    "version": 3
   },
   "file_extension": ".py",
   "mimetype": "text/x-python",
   "name": "python",
   "nbconvert_exporter": "python",
   "pygments_lexer": "ipython3",
   "version": "3.11.9"
  }
 },
 "nbformat": 4,
 "nbformat_minor": 5
}
